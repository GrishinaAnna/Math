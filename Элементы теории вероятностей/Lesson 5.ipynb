{
 "cells": [
  {
   "cell_type": "markdown",
   "metadata": {},
   "source": [
    "**Тема “Элементы теории вероятностей”**\n"
   ]
  },
  {
   "cell_type": "markdown",
   "metadata": {},
   "source": [
    "**1. Напишите код, моделирующий выпадение поля в рулетке (с учетом поля зеро).**\n"
   ]
  },
  {
   "cell_type": "code",
   "execution_count": 1,
   "metadata": {},
   "outputs": [],
   "source": [
    "%matplotlib inline\n",
    "import numpy as np\n",
    "import matplotlib.pyplot as plt\n",
    "import matplotlib.mlab as mlab"
   ]
  },
  {
   "cell_type": "code",
   "execution_count": 2,
   "metadata": {},
   "outputs": [
    {
     "data": {
      "text/plain": [
       "17"
      ]
     },
     "execution_count": 2,
     "metadata": {},
     "output_type": "execute_result"
    }
   ],
   "source": [
    "x = np.random.randint(0,37)\n",
    "x"
   ]
  },
  {
   "cell_type": "markdown",
   "metadata": {},
   "source": [
    "**2.   \n",
    "1) Напишите код, проверяющий любую из теорем сложения или умножения вероятности на примере рулетки или подбрасывания монетки.**\n"
   ]
  },
  {
   "cell_type": "code",
   "execution_count": 3,
   "metadata": {},
   "outputs": [
    {
     "data": {
      "text/plain": [
       "0.972972972972973"
      ]
     },
     "execution_count": 3,
     "metadata": {},
     "output_type": "execute_result"
    }
   ],
   "source": [
    "# вероятность выпадения четного или нечетного(теорема сложения)\n",
    "a,b = 18, 18\n",
    "n = 37\n",
    "P = a/n + b/n\n",
    "P"
   ]
  },
  {
   "cell_type": "code",
   "execution_count": 4,
   "metadata": {},
   "outputs": [
    {
     "data": {
      "text/plain": [
       "0.0007304601899196495"
      ]
     },
     "execution_count": 4,
     "metadata": {},
     "output_type": "execute_result"
    }
   ],
   "source": [
    "# вероятность выпадения 0 и 36 (теорема умножения)\n",
    "a, b = 1, 1\n",
    "n = 37\n",
    "P = (a/n) * (b/n)\n",
    "P"
   ]
  },
  {
   "cell_type": "markdown",
   "metadata": {},
   "source": [
    "**2) Сгенерируйте десять выборок случайных чисел х0, …, х9.\n",
    "и постройте гистограмму распределения случайной суммы х0+х1+ …+ х9.**"
   ]
  },
  {
   "cell_type": "code",
   "execution_count": 5,
   "metadata": {},
   "outputs": [
    {
     "name": "stdout",
     "output_type": "stream",
     "text": [
      "Выборка десяти случайных чисел х0, …, х9:  [0.48199184 0.34866704 0.40930368 0.92935399 0.78478912 0.97458997\n",
      " 0.72931886 0.54689064 0.32687735 0.92295941]\n"
     ]
    },
    {
     "data": {
      "text/plain": [
       "Text(0.5, 1.0, 'Гистограмма распределения случайной суммы х0+х1+ …+ х9')"
      ]
     },
     "execution_count": 5,
     "metadata": {},
     "output_type": "execute_result"
    },
    {
     "data": {
      "image/png": "[encoded data removed]",
      "text/plain": [
       "<Figure size 432x288 with 1 Axes>"
      ]
     },
     "metadata": {
      "needs_background": "light"
     },
     "output_type": "display_data"
    }
   ],
   "source": [
    "x = np.random.rand(10)\n",
    "print ('Выборка десяти случайных чисел х0, …, х9: ', x)\n",
    "num_bins = 5\n",
    "n, bins, patches = plt.hist(np.sum(x), num_bins)\n",
    "plt.xlabel('sum(x)')\n",
    "plt.ylabel('Probability')\n",
    "plt.title('Гистограмма распределения случайной суммы х0+х1+ …+ х9')"
   ]
  },
  {
   "cell_type": "markdown",
   "metadata": {},
   "source": [
    "**3.  \n",
    "1) Дополните код Монте-Карло последовательности независимых испытаний расчетом соответствующих вероятностей (через биномиальное распределение)и сравните результаты.**\n"
   ]
  },
  {
   "cell_type": "code",
   "execution_count": 6,
   "metadata": {},
   "outputs": [
    {
     "name": "stdout",
     "output_type": "stream",
     "text": [
      "2 4 0.5\n"
     ]
    }
   ],
   "source": [
    "k, n =0, 4\n",
    "a = np.random.randint(0, 2, n)\n",
    "b = np.random.randint(0, 2, n)\n",
    "c = np.random.randint(0, 2, n)\n",
    "d = np.random.randint(0, 2, n)\n",
    "x = a + b + c + d\n",
    "for i in range(0, n):\n",
    "    if x[i] == 2:\n",
    "        k = k + 1\n",
    "#print(a, b, c, d)\n",
    "#print(x)\n",
    "print(k, n, k/n)"
   ]
  },
  {
   "cell_type": "code",
   "execution_count": 8,
   "metadata": {},
   "outputs": [
    {
     "name": "stdout",
     "output_type": "stream",
     "text": [
      "Расчет соответствующих вероятностей (через биномиальное распределение):  0.375\n"
     ]
    }
   ],
   "source": [
    "import math\n",
    "k, n = 2, 4\n",
    "p = 1/2\n",
    "c = math.factorial(n)/(math.factorial(k)*math.factorial(n-k))\n",
    "P = c*(p**k)*((1-p)**(n-k))\n",
    "print('Расчет соответствующих вероятностей (через биномиальное распределение): ', P)"
   ]
  },
  {
   "cell_type": "markdown",
   "metadata": {},
   "source": [
    "**2) Повторите расчеты биномиальных коэффициентов и вероятностей k успехов в последовательности из n независимых испытаний, взяв другие значения n и k.**"
   ]
  },
  {
   "cell_type": "code",
   "execution_count": 9,
   "metadata": {},
   "outputs": [
    {
     "name": "stdout",
     "output_type": "stream",
     "text": [
      "Расчет соответствующих вероятностей (через биномиальное распределение):  0.25\n"
     ]
    }
   ],
   "source": [
    "k, n = 1, 4\n",
    "p = 1/2\n",
    "c = math.factorial(n)/(math.factorial(k)*math.factorial(n-k))\n",
    "P = c*(p**k)*((1-p)**(n-k))\n",
    "print('Расчет соответствующих вероятностей (через биномиальное распределение): ', P)"
   ]
  },
  {
   "cell_type": "markdown",
   "metadata": {},
   "source": [
    "**4. Из урока по комбинаторике повторите расчеты, сгенерировав возможные варианты перестановок для других значений n и k**\n"
   ]
  },
  {
   "cell_type": "code",
   "execution_count": 10,
   "metadata": {},
   "outputs": [],
   "source": [
    "import itertools"
   ]
  },
  {
   "cell_type": "code",
   "execution_count": 13,
   "metadata": {},
   "outputs": [
    {
     "name": "stdout",
     "output_type": "stream",
     "text": [
      "123\n",
      "124\n",
      "125\n",
      "132\n",
      "134\n",
      "135\n",
      "142\n",
      "143\n",
      "145\n",
      "152\n",
      "153\n",
      "154\n",
      "213\n",
      "214\n",
      "215\n",
      "231\n",
      "234\n",
      "235\n",
      "241\n",
      "243\n",
      "245\n",
      "251\n",
      "253\n",
      "254\n",
      "312\n",
      "314\n",
      "315\n",
      "321\n",
      "324\n",
      "325\n",
      "341\n",
      "342\n",
      "345\n",
      "351\n",
      "352\n",
      "354\n",
      "412\n",
      "413\n",
      "415\n",
      "421\n",
      "423\n",
      "425\n",
      "431\n",
      "432\n",
      "435\n",
      "451\n",
      "452\n",
      "453\n",
      "512\n",
      "513\n",
      "514\n",
      "521\n",
      "523\n",
      "524\n",
      "531\n",
      "532\n",
      "534\n",
      "541\n",
      "542\n",
      "543\n"
     ]
    }
   ],
   "source": [
    "# размещение\n",
    "for p in itertools.permutations(\"12345\",3):\n",
    "    print(''.join(str(x) for x in p))"
   ]
  },
  {
   "cell_type": "code",
   "execution_count": 14,
   "metadata": {},
   "outputs": [
    {
     "name": "stdout",
     "output_type": "stream",
     "text": [
      "98\n",
      "97\n",
      "87\n"
     ]
    }
   ],
   "source": [
    "# сочетания\n",
    "for p in itertools.combinations(\"987\",2):\n",
    "    print(''.join(p))"
   ]
  },
  {
   "cell_type": "code",
   "execution_count": 15,
   "metadata": {},
   "outputs": [
    {
     "name": "stdout",
     "output_type": "stream",
     "text": [
      "123\n",
      "132\n",
      "213\n",
      "231\n",
      "312\n",
      "321\n"
     ]
    }
   ],
   "source": [
    "# перестановка\n",
    "for p in itertools.permutations(\"123\",3):\n",
    "    print(''.join(str(x) for x in p))"
   ]
  },
  {
   "cell_type": "markdown",
   "metadata": {},
   "source": [
    "**5. Дополните код расчетом коэффициента корреляции x и y по формуле**\n"
   ]
  },
  {
   "cell_type": "code",
   "execution_count": 23,
   "metadata": {},
   "outputs": [
    {
     "name": "stderr",
     "output_type": "stream",
     "text": [
      "C:\\ProgramData\\Anaconda4\\lib\\site-packages\\ipykernel_launcher.py:14: FutureWarning: `rcond` parameter will change to the default of machine precision times ``max(M, N)`` where M and N are the input matrix dimensions.\n",
      "To use the future default and silence this warning we advise to pass `rcond=None`, to keep using the old, explicitly pass `rcond=-1`.\n",
      "  \n"
     ]
    },
    {
     "name": "stdout",
     "output_type": "stream",
     "text": [
      "0.6991896088919747 0.13494542015383396\n",
      "0.6991896088919743 0.1349454201538342\n"
     ]
    },
    {
     "data": {
      "image/png": "[encoded data removed]",
      "text/plain": [
       "<Figure size 432x288 with 1 Axes>"
      ]
     },
     "metadata": {
      "needs_background": "light"
     },
     "output_type": "display_data"
    }
   ],
   "source": [
    "n = 100\n",
    "r = 0.7\n",
    "x = np.random.rand(n)\n",
    "y = r*x + (1 - r)*np.random.rand(n)\n",
    "plt.plot(x, y, 'o')\n",
    "plt.xlabel('x')\n",
    "plt.ylabel('y')\n",
    "plt.grid(True)\n",
    "\n",
    "a = (np.sum(x)*np.sum(y) - n*np.sum(x*y))/(np.sum(x)*np.sum(x) - n*np.sum(x*x))\n",
    "b = (np.sum(y) - a*np.sum(x))/n\n",
    "\n",
    "A = np.vstack([x, np.ones(len(x))]).T\n",
    "a1, b1 = np.linalg.lstsq(A, y)[0]\n",
    "print(a, b)\n",
    "print(a1, b1)\n",
    "plt.plot([0, 1], [b, a + b])\n",
    "plt.show()"
   ]
  },
  {
   "cell_type": "code",
   "execution_count": 24,
   "metadata": {},
   "outputs": [
    {
     "data": {
      "text/plain": [
       "0.9161776026025783"
      ]
     },
     "execution_count": 24,
     "metadata": {},
     "output_type": "execute_result"
    }
   ],
   "source": [
    "# коэффициента корреляции x и y\n",
    "xm = np.mean(x) # ср. значение для х\n",
    "ym = np.mean(y) # ср. значение для y\n",
    "R = np.sum((x-xm)*(y-ym))/(np.sqrt(np.sum((x-xm)**2)*np.sum((y-ym)**2)))\n",
    "R"
   ]
  },
  {
   "cell_type": "code",
   "execution_count": null,
   "metadata": {},
   "outputs": [],
   "source": []
  }
 ],
 "metadata": {
  "kernelspec": {
   "display_name": "Python 3",
   "language": "python",
   "name": "python3"
  },
  "language_info": {
   "codemirror_mode": {
    "name": "ipython",
    "version": 3
   },
   "file_extension": ".py",
   "mimetype": "text/x-python",
   "name": "python",
   "nbconvert_exporter": "python",
   "pygments_lexer": "ipython3",
   "version": "3.7.4"
  }
 },
 "nbformat": 4,
 "nbformat_minor": 2
}
